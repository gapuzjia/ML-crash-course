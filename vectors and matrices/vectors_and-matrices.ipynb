{
  "cells": [
    {
      "cell_type": "markdown",
      "metadata": {
        "id": "_bNBEvloweIb"
      },
      "source": [
        "# Part 2. Vector and Matrix"
      ]
    },
    {
      "cell_type": "markdown",
      "metadata": {
        "id": "KbVD3t-UweIf"
      },
      "source": [
        "In this lab, we will learn how to use Python to operate vectors and matrices."
      ]
    },
    {
      "cell_type": "markdown",
      "metadata": {
        "id": "-917ogYJweIf"
      },
      "source": [
        "## 1. Example"
      ]
    },
    {
      "cell_type": "markdown",
      "metadata": {
        "id": "KsaYHlJvweIf"
      },
      "source": [
        "### 1.1 Load data with pandas"
      ]
    },
    {
      "cell_type": "code",
      "source": [
        "from google.colab import drive\n",
        "drive.mount('/content/drive')\n",
        "\n"
      ],
      "metadata": {
        "colab": {
          "base_uri": "https://localhost:8080/"
        },
        "id": "GtiL0zFTw3A-",
        "outputId": "06332732-59e5-4812-9f8c-c449ad5b4f3e"
      },
      "execution_count": null,
      "outputs": [
        {
          "output_type": "stream",
          "name": "stdout",
          "text": [
            "Mounted at /content/drive\n"
          ]
        }
      ]
    },
    {
      "cell_type": "code",
      "source": [
        "from google.colab import files\n",
        "uploaded = files.upload()"
      ],
      "metadata": {
        "colab": {
          "base_uri": "https://localhost:8080/",
          "height": 73
        },
        "id": "4SLTtm7mxLeL",
        "outputId": "2d2d4fbb-4cf6-4266-ba43-212801a775d0"
      },
      "execution_count": null,
      "outputs": [
        {
          "output_type": "display_data",
          "data": {
            "text/plain": [
              "<IPython.core.display.HTML object>"
            ],
            "text/html": [
              "\n",
              "     <input type=\"file\" id=\"files-df938a9a-88da-47b1-a7c7-144663eb02ea\" name=\"files[]\" multiple disabled\n",
              "        style=\"border:none\" />\n",
              "     <output id=\"result-df938a9a-88da-47b1-a7c7-144663eb02ea\">\n",
              "      Upload widget is only available when the cell has been executed in the\n",
              "      current browser session. Please rerun this cell to enable.\n",
              "      </output>\n",
              "      <script>// Copyright 2017 Google LLC\n",
              "//\n",
              "// Licensed under the Apache License, Version 2.0 (the \"License\");\n",
              "// you may not use this file except in compliance with the License.\n",
              "// You may obtain a copy of the License at\n",
              "//\n",
              "//      http://www.apache.org/licenses/LICENSE-2.0\n",
              "//\n",
              "// Unless required by applicable law or agreed to in writing, software\n",
              "// distributed under the License is distributed on an \"AS IS\" BASIS,\n",
              "// WITHOUT WARRANTIES OR CONDITIONS OF ANY KIND, either express or implied.\n",
              "// See the License for the specific language governing permissions and\n",
              "// limitations under the License.\n",
              "\n",
              "/**\n",
              " * @fileoverview Helpers for google.colab Python module.\n",
              " */\n",
              "(function(scope) {\n",
              "function span(text, styleAttributes = {}) {\n",
              "  const element = document.createElement('span');\n",
              "  element.textContent = text;\n",
              "  for (const key of Object.keys(styleAttributes)) {\n",
              "    element.style[key] = styleAttributes[key];\n",
              "  }\n",
              "  return element;\n",
              "}\n",
              "\n",
              "// Max number of bytes which will be uploaded at a time.\n",
              "const MAX_PAYLOAD_SIZE = 100 * 1024;\n",
              "\n",
              "function _uploadFiles(inputId, outputId) {\n",
              "  const steps = uploadFilesStep(inputId, outputId);\n",
              "  const outputElement = document.getElementById(outputId);\n",
              "  // Cache steps on the outputElement to make it available for the next call\n",
              "  // to uploadFilesContinue from Python.\n",
              "  outputElement.steps = steps;\n",
              "\n",
              "  return _uploadFilesContinue(outputId);\n",
              "}\n",
              "\n",
              "// This is roughly an async generator (not supported in the browser yet),\n",
              "// where there are multiple asynchronous steps and the Python side is going\n",
              "// to poll for completion of each step.\n",
              "// This uses a Promise to block the python side on completion of each step,\n",
              "// then passes the result of the previous step as the input to the next step.\n",
              "function _uploadFilesContinue(outputId) {\n",
              "  const outputElement = document.getElementById(outputId);\n",
              "  const steps = outputElement.steps;\n",
              "\n",
              "  const next = steps.next(outputElement.lastPromiseValue);\n",
              "  return Promise.resolve(next.value.promise).then((value) => {\n",
              "    // Cache the last promise value to make it available to the next\n",
              "    // step of the generator.\n",
              "    outputElement.lastPromiseValue = value;\n",
              "    return next.value.response;\n",
              "  });\n",
              "}\n",
              "\n",
              "/**\n",
              " * Generator function which is called between each async step of the upload\n",
              " * process.\n",
              " * @param {string} inputId Element ID of the input file picker element.\n",
              " * @param {string} outputId Element ID of the output display.\n",
              " * @return {!Iterable<!Object>} Iterable of next steps.\n",
              " */\n",
              "function* uploadFilesStep(inputId, outputId) {\n",
              "  const inputElement = document.getElementById(inputId);\n",
              "  inputElement.disabled = false;\n",
              "\n",
              "  const outputElement = document.getElementById(outputId);\n",
              "  outputElement.innerHTML = '';\n",
              "\n",
              "  const pickedPromise = new Promise((resolve) => {\n",
              "    inputElement.addEventListener('change', (e) => {\n",
              "      resolve(e.target.files);\n",
              "    });\n",
              "  });\n",
              "\n",
              "  const cancel = document.createElement('button');\n",
              "  inputElement.parentElement.appendChild(cancel);\n",
              "  cancel.textContent = 'Cancel upload';\n",
              "  const cancelPromise = new Promise((resolve) => {\n",
              "    cancel.onclick = () => {\n",
              "      resolve(null);\n",
              "    };\n",
              "  });\n",
              "\n",
              "  // Wait for the user to pick the files.\n",
              "  const files = yield {\n",
              "    promise: Promise.race([pickedPromise, cancelPromise]),\n",
              "    response: {\n",
              "      action: 'starting',\n",
              "    }\n",
              "  };\n",
              "\n",
              "  cancel.remove();\n",
              "\n",
              "  // Disable the input element since further picks are not allowed.\n",
              "  inputElement.disabled = true;\n",
              "\n",
              "  if (!files) {\n",
              "    return {\n",
              "      response: {\n",
              "        action: 'complete',\n",
              "      }\n",
              "    };\n",
              "  }\n",
              "\n",
              "  for (const file of files) {\n",
              "    const li = document.createElement('li');\n",
              "    li.append(span(file.name, {fontWeight: 'bold'}));\n",
              "    li.append(span(\n",
              "        `(${file.type || 'n/a'}) - ${file.size} bytes, ` +\n",
              "        `last modified: ${\n",
              "            file.lastModifiedDate ? file.lastModifiedDate.toLocaleDateString() :\n",
              "                                    'n/a'} - `));\n",
              "    const percent = span('0% done');\n",
              "    li.appendChild(percent);\n",
              "\n",
              "    outputElement.appendChild(li);\n",
              "\n",
              "    const fileDataPromise = new Promise((resolve) => {\n",
              "      const reader = new FileReader();\n",
              "      reader.onload = (e) => {\n",
              "        resolve(e.target.result);\n",
              "      };\n",
              "      reader.readAsArrayBuffer(file);\n",
              "    });\n",
              "    // Wait for the data to be ready.\n",
              "    let fileData = yield {\n",
              "      promise: fileDataPromise,\n",
              "      response: {\n",
              "        action: 'continue',\n",
              "      }\n",
              "    };\n",
              "\n",
              "    // Use a chunked sending to avoid message size limits. See b/62115660.\n",
              "    let position = 0;\n",
              "    do {\n",
              "      const length = Math.min(fileData.byteLength - position, MAX_PAYLOAD_SIZE);\n",
              "      const chunk = new Uint8Array(fileData, position, length);\n",
              "      position += length;\n",
              "\n",
              "      const base64 = btoa(String.fromCharCode.apply(null, chunk));\n",
              "      yield {\n",
              "        response: {\n",
              "          action: 'append',\n",
              "          file: file.name,\n",
              "          data: base64,\n",
              "        },\n",
              "      };\n",
              "\n",
              "      let percentDone = fileData.byteLength === 0 ?\n",
              "          100 :\n",
              "          Math.round((position / fileData.byteLength) * 100);\n",
              "      percent.textContent = `${percentDone}% done`;\n",
              "\n",
              "    } while (position < fileData.byteLength);\n",
              "  }\n",
              "\n",
              "  // All done.\n",
              "  yield {\n",
              "    response: {\n",
              "      action: 'complete',\n",
              "    }\n",
              "  };\n",
              "}\n",
              "\n",
              "scope.google = scope.google || {};\n",
              "scope.google.colab = scope.google.colab || {};\n",
              "scope.google.colab._files = {\n",
              "  _uploadFiles,\n",
              "  _uploadFilesContinue,\n",
              "};\n",
              "})(self);\n",
              "</script> "
            ]
          },
          "metadata": {}
        },
        {
          "output_type": "stream",
          "name": "stdout",
          "text": [
            "Saving cars.csv to cars.csv\n"
          ]
        }
      ]
    },
    {
      "cell_type": "code",
      "execution_count": null,
      "metadata": {
        "colab": {
          "base_uri": "https://localhost:8080/"
        },
        "id": "zElQUNDZweIg",
        "outputId": "23889281-e6c3-4a8e-f314-981e8275d42c"
      },
      "outputs": [
        {
          "output_type": "stream",
          "name": "stdout",
          "text": [
            "<class 'numpy.ndarray'>\n",
            "(406, 7)\n",
            "[[18.0 8 307.0 ... 3504 12.0 70]\n",
            " [15.0 8 350.0 ... 3693 11.5 70]\n",
            " [18.0 8 318.0 ... 3436 11.0 70]\n",
            " ...\n",
            " [32.0 4 135.0 ... 2295 11.6 82]\n",
            " [28.0 4 120.0 ... 2625 18.6 82]\n",
            " [31.0 4 119.0 ... 2720 19.4 82]]\n"
          ]
        }
      ],
      "source": [
        "import numpy as np\n",
        "import pandas as pd\n",
        "\n",
        "# load data with pandas\n",
        "df = pd.read_csv('cars.csv')\n",
        "# print(df)\n",
        "\n",
        "# convert a pandas dataframe to a numpy array\n",
        "X = df.values[:, 1:-1]\n",
        "print(type(X))\n",
        "print(X.shape)\n",
        "print(X)"
      ]
    },
    {
      "cell_type": "markdown",
      "metadata": {
        "id": "tLlDWjOaweIh"
      },
      "source": [
        "### 1.2 Operation for vector"
      ]
    },
    {
      "cell_type": "code",
      "execution_count": null,
      "metadata": {
        "colab": {
          "base_uri": "https://localhost:8080/"
        },
        "id": "ua4mTt-BweIi",
        "outputId": "3d524ff2-392a-46fd-95f5-1e25f1e2846a"
      },
      "outputs": [
        {
          "output_type": "stream",
          "name": "stdout",
          "text": [
            "[18.0 8 307.0 130 3504 12.0 70]\n",
            "[28.0 4 120.0 79 2625 18.6 82]\n",
            "[46.0 12 427.0 209 6129 30.6 152]\n"
          ]
        }
      ],
      "source": [
        "#Get first row and the second to last row\n",
        "\n",
        "x1 = X[0, :]\n",
        "x2 = X[-2, :]\n",
        "\n",
        "print(x1)\n",
        "print(x2)\n",
        "\n",
        "# Addition\n",
        "\n",
        "y = x1 + x2\n",
        "print(y)"
      ]
    },
    {
      "cell_type": "markdown",
      "metadata": {
        "id": "BwTmJ7iQweIi"
      },
      "source": [
        "### 1.3 Operation for matrix"
      ]
    },
    {
      "cell_type": "code",
      "execution_count": null,
      "metadata": {
        "colab": {
          "base_uri": "https://localhost:8080/"
        },
        "id": "9GeYKLaAweIi",
        "outputId": "883d564b-a430-4316-e08c-af06437f8885"
      },
      "outputs": [
        {
          "output_type": "stream",
          "name": "stdout",
          "text": [
            "[[18.0 8 307.0 130 3504 12.0 70]\n",
            " [15.0 8 350.0 165 3693 11.5 70]\n",
            " [18.0 8 318.0 150 3436 11.0 70]\n",
            " [16.0 8 304.0 150 3433 12.0 70]\n",
            " [17.0 8 302.0 140 3449 10.5 70]]\n",
            "[[27.0 4 140.0 86 2790 15.6 82]\n",
            " [44.0 4 97.0 52 2130 24.6 82]\n",
            " [32.0 4 135.0 84 2295 11.6 82]\n",
            " [28.0 4 120.0 79 2625 18.6 82]\n",
            " [31.0 4 119.0 82 2720 19.4 82]]\n",
            "[[-9.0 4 167.0 44 714 -3.5999999999999996 -12]\n",
            " [-29.0 4 253.0 113 1563 -13.100000000000001 -12]\n",
            " [-14.0 4 183.0 66 1141 -0.5999999999999996 -12]\n",
            " [-12.0 4 184.0 71 808 -6.600000000000001 -12]\n",
            " [-14.0 4 183.0 58 729 -8.899999999999999 -12]]\n"
          ]
        }
      ],
      "source": [
        "# Get first 5 rows and last 5 rows\n",
        "\n",
        "m1 = X[0:5, :]\n",
        "m2 = X[-5:, :]\n",
        "\n",
        "print(m1)\n",
        "print(m2)\n",
        "\n",
        "# Subtraction\n",
        "m = m1 - m2\n",
        "print(m)"
      ]
    },
    {
      "cell_type": "markdown",
      "metadata": {
        "id": "KFpNaiZfweIj"
      },
      "source": [
        "## 2 Task"
      ]
    },
    {
      "cell_type": "markdown",
      "metadata": {
        "id": "YFw3WCLxweIj"
      },
      "source": [
        "### 2.1 Get the first column and the second to last column from X"
      ]
    },
    {
      "cell_type": "code",
      "execution_count": null,
      "metadata": {
        "colab": {
          "base_uri": "https://localhost:8080/"
        },
        "id": "ZFt8FpFuweIj",
        "outputId": "12c29df3-fc45-40fc-a3ad-220eb4bb7932"
      },
      "outputs": [
        {
          "output_type": "stream",
          "name": "stdout",
          "text": [
            "[8 8 8 8 8 8 8 8 8 8 4 8 8 8 8 8 8 8 8 8 4 6 6 6 4 4 4 4 4 4 6 8 8 8 8 4 4\n",
            " 4 4 4 6 6 6 6 6 8 8 8 8 8 8 8 6 4 6 6 4 4 4 4 4 4 4 4 4 4 4 4 4 8 8 8 8 8\n",
            " 8 8 8 8 3 8 8 8 8 4 4 4 4 4 4 4 4 4 8 8 8 8 8 8 8 8 8 8 8 8 6 6 6 6 6 4 8\n",
            " 8 8 8 6 4 4 4 3 4 6 4 8 8 4 4 4 4 8 4 6 8 6 6 6 6 4 4 4 4 6 6 6 8 8 8 8 8\n",
            " 4 4 4 4 4 4 4 4 4 4 4 6 6 6 6 8 8 8 8 6 6 6 6 6 8 8 4 4 6 4 4 4 4 6 4 6 4\n",
            " 4 4 4 4 4 4 4 4 4 8 8 8 8 6 6 6 6 4 4 4 4 6 6 6 6 4 4 4 4 4 8 4 6 6 8 8 8\n",
            " 8 4 4 4 4 4 8 8 8 8 6 6 6 6 8 8 8 8 4 4 4 4 4 4 4 4 6 4 3 4 4 4 4 4 8 8 8\n",
            " 6 6 6 4 6 6 6 6 6 6 8 6 8 8 4 4 4 4 4 4 4 4 5 6 4 6 4 4 6 6 4 6 6 8 8 8 8\n",
            " 8 8 8 8 4 4 4 4 5 8 4 8 4 4 4 4 4 6 6 4 4 4 4 4 4 4 4 6 4 4 4 4 4 4 4 4 4\n",
            " 4 5 4 4 4 4 4 6 3 4 4 4 4 4 4 6 4 4 4 4 4 4 4 4 4 4 4 4 4 4 4 4 4 4 4 6 6\n",
            " 6 6 8 6 6 4 4 4 4 4 4 4 4 4 4 4 4 4 4 4 4 4 4 4 6 6 4 6 4 4 4 4 4 4 4 4]\n",
            "[12.0 11.5 11.0 12.0 10.5 10.0 9.0 8.5 10.0 8.5 17.5 11.5 11.0 10.5 11.0\n",
            " 10.0 8.0 8.0 9.5 10.0 15.0 15.5 15.5 16.0 14.5 20.5 17.5 14.5 17.5 12.5\n",
            " 15.0 14.0 15.0 13.5 18.5 14.5 15.5 14.0 19.0 20.0 13.0 15.5 15.5 15.5\n",
            " 15.5 12.0 11.5 13.5 13.0 11.5 12.0 12.0 13.5 19.0 15.0 14.5 14.0 14.0\n",
            " 19.5 14.5 19.0 18.0 19.0 20.5 15.5 17.0 23.5 19.5 16.5 12.0 12.0 13.5\n",
            " 13.0 11.5 11.0 13.5 13.5 12.5 13.5 12.5 14.0 16.0 14.0 14.5 18.0 19.5\n",
            " 18.0 16.0 17.0 14.5 15.0 16.5 13.0 11.5 13.0 14.5 12.5 11.5 12.0 13.0\n",
            " 14.5 11.0 11.0 11.0 16.5 18.0 16.0 16.5 16.0 21.0 14.0 12.5 13.0 12.5\n",
            " 15.0 19.0 19.5 16.5 13.5 18.5 14.0 15.5 13.0 9.5 19.5 15.5 14.0 15.5 11.0\n",
            " 14.0 13.5 11.0 16.5 17.0 16.0 17.0 19.0 16.5 21.0 17.0 17.0 18.0 16.5\n",
            " 14.0 14.5 13.5 16.0 15.5 16.5 15.5 14.5 16.5 19.0 14.5 15.5 14.0 15.0\n",
            " 15.5 16.0 16.0 16.0 21.0 19.5 11.5 14.0 14.5 13.5 21.0 18.5 19.0 19.0\n",
            " 15.0 13.5 12.0 16.0 17.0 16.0 18.5 13.5 16.5 17.0 14.5 14.0 17.0 15.0\n",
            " 17.0 14.5 13.5 17.5 15.5 16.9 14.9 17.7 15.3 13.0 13.0 13.9 12.8 15.4\n",
            " 14.5 17.6 17.6 22.2 22.1 14.2 17.4 17.7 21.0 16.2 17.8 12.2 17.0 16.4\n",
            " 13.6 15.7 13.2 21.9 15.5 16.7 12.1 12.0 15.0 14.0 18.5 14.8 18.6 15.5\n",
            " 16.8 12.5 19.0 13.7 14.9 16.4 16.9 17.7 19.0 11.1 11.4 12.2 14.5 14.5\n",
            " 16.0 18.2 15.8 17.0 15.9 16.4 14.1 14.5 12.8 13.5 21.5 14.4 19.4 18.6\n",
            " 16.4 15.5 13.2 12.8 19.2 18.2 15.8 15.4 17.2 17.2 15.8 16.7 18.7 15.1\n",
            " 13.2 13.4 11.2 13.7 16.5 14.2 14.7 14.5 14.8 16.7 17.6 14.9 15.9 13.6\n",
            " 15.7 15.8 14.9 16.6 15.4 18.2 17.3 18.2 16.6 15.4 13.4 13.2 15.2 14.9\n",
            " 14.3 15.0 13.0 14.0 15.2 14.4 15.0 20.1 17.4 24.8 22.2 13.2 14.9 19.2\n",
            " 14.7 16.0 11.3 12.9 13.2 14.7 18.8 15.5 16.4 16.5 18.1 20.1 18.7 15.8\n",
            " 15.5 17.5 15.0 15.2 17.9 14.4 19.2 21.7 23.7 19.9 21.8 13.8 17.3 18.0\n",
            " 15.3 11.4 12.5 15.1 14.3 17.0 15.7 16.4 14.4 12.6 12.9 16.9 16.4 16.1\n",
            " 17.8 19.4 17.3 16.0 14.9 16.2 20.7 14.2 15.8 14.4 16.8 14.8 18.3 20.4\n",
            " 15.4 19.6 12.6 13.8 15.8 19.0 17.1 16.6 19.6 18.6 18.0 16.2 16.0 18.0\n",
            " 16.4 20.5 15.3 18.2 17.6 14.7 17.3 14.5 14.5 16.9 15.0 15.7 16.2 16.4\n",
            " 17.0 14.5 14.7 13.9 13.0 17.3 15.6 24.6 11.6 18.6 19.4]\n"
          ]
        }
      ],
      "source": [
        "# this is your code to get two\n",
        "\n",
        "#first column\n",
        "y1 = X[: , 1]\n",
        "\n",
        "#second to last column\n",
        "y2 = X[: ,-2]\n",
        "\n",
        "print(y1)\n",
        "print(y2)"
      ]
    },
    {
      "cell_type": "markdown",
      "metadata": {
        "id": "pPtsr-2PweIj"
      },
      "source": [
        "### 2.2 Perform following operations on these two vectors and print the result"
      ]
    },
    {
      "cell_type": "code",
      "execution_count": null,
      "metadata": {
        "colab": {
          "base_uri": "https://localhost:8080/"
        },
        "id": "BDzcaxkLweIj",
        "outputId": "ac361495-1a85-44ee-c100-8b041604abaf"
      },
      "outputs": [
        {
          "output_type": "stream",
          "name": "stdout",
          "text": [
            "[20.0 19.5 19.0 20.0 18.5 18.0 17.0 16.5 18.0 16.5 21.5 19.5 19.0 18.5\n",
            " 19.0 18.0 16.0 16.0 17.5 18.0 19.0 21.5 21.5 22.0 18.5 24.5 21.5 18.5\n",
            " 21.5 16.5 21.0 22.0 23.0 21.5 26.5 18.5 19.5 18.0 23.0 24.0 19.0 21.5\n",
            " 21.5 21.5 21.5 20.0 19.5 21.5 21.0 19.5 20.0 20.0 19.5 23.0 21.0 20.5\n",
            " 18.0 18.0 23.5 18.5 23.0 22.0 23.0 24.5 19.5 21.0 27.5 23.5 20.5 20.0\n",
            " 20.0 21.5 21.0 19.5 19.0 21.5 21.5 20.5 16.5 20.5 22.0 24.0 22.0 18.5\n",
            " 22.0 23.5 22.0 20.0 21.0 18.5 19.0 20.5 21.0 19.5 21.0 22.5 20.5 19.5\n",
            " 20.0 21.0 22.5 19.0 19.0 19.0 22.5 24.0 22.0 22.5 22.0 25.0 22.0 20.5\n",
            " 21.0 20.5 21.0 23.0 23.5 20.5 16.5 22.5 20.0 19.5 21.0 17.5 23.5 19.5\n",
            " 18.0 19.5 19.0 18.0 19.5 19.0 22.5 23.0 22.0 23.0 23.0 20.5 25.0 21.0\n",
            " 23.0 24.0 22.5 22.0 22.5 21.5 24.0 23.5 20.5 19.5 18.5 20.5 23.0 18.5\n",
            " 19.5 18.0 19.0 19.5 20.0 22.0 22.0 27.0 25.5 19.5 22.0 22.5 21.5 27.0\n",
            " 24.5 25.0 25.0 21.0 21.5 20.0 20.0 21.0 22.0 22.5 17.5 20.5 21.0 20.5\n",
            " 18.0 23.0 19.0 21.0 18.5 17.5 21.5 19.5 20.9 18.9 21.7 19.3 21.0 21.0\n",
            " 21.9 20.8 21.4 20.5 23.6 23.6 26.2 26.1 18.2 21.4 23.7 27.0 22.2 23.8\n",
            " 16.2 21.0 20.4 17.6 19.7 21.2 25.9 21.5 22.7 20.1 20.0 23.0 22.0 22.5\n",
            " 18.8 22.6 19.5 20.8 20.5 27.0 21.7 22.9 22.4 22.9 23.7 25.0 19.1 19.4\n",
            " 20.2 22.5 18.5 20.0 22.2 19.8 21.0 19.9 20.4 18.1 20.5 16.8 16.5 25.5\n",
            " 18.4 23.4 22.6 20.4 23.5 21.2 20.8 25.2 24.2 21.8 19.4 23.2 23.2 21.8\n",
            " 22.7 24.7 21.1 21.2 19.4 19.2 21.7 20.5 18.2 18.7 18.5 18.8 20.7 21.6\n",
            " 18.9 20.9 19.6 19.7 21.8 18.9 20.6 21.4 24.2 21.3 24.2 22.6 23.4 21.4\n",
            " 21.2 23.2 22.9 22.3 23.0 21.0 18.0 19.2 18.4 19.0 25.1 25.4 28.8 30.2\n",
            " 17.2 18.9 23.2 18.7 20.0 17.3 18.9 17.2 18.7 22.8 19.5 20.4 20.5 22.1\n",
            " 24.1 24.7 19.8 19.5 21.5 19.0 19.2 21.9 18.4 23.2 25.7 27.7 24.9 25.8\n",
            " 17.8 21.3 22.0 19.3 17.4 15.5 19.1 18.3 21.0 19.7 20.4 18.4 18.6 16.9\n",
            " 20.9 20.4 20.1 21.8 23.4 21.3 20.0 18.9 20.2 24.7 18.2 19.8 18.4 20.8\n",
            " 18.8 22.3 24.4 19.4 25.6 18.6 19.8 21.8 27.0 23.1 22.6 23.6 22.6 22.0\n",
            " 20.2 20.0 22.0 20.4 24.5 19.3 22.2 21.6 18.7 21.3 18.5 18.5 20.9 19.0\n",
            " 19.7 20.2 22.4 23.0 18.5 20.7 17.9 17.0 21.3 19.6 28.6 15.6 22.6 23.4]\n",
            "[-4.0 -3.5 -3.0 -4.0 -2.5 -2.0 -1.0 -0.5 -2.0 -0.5 -13.5 -3.5 -3.0 -2.5\n",
            " -3.0 -2.0 0.0 0.0 -1.5 -2.0 -11.0 -9.5 -9.5 -10.0 -10.5 -16.5 -13.5 -10.5\n",
            " -13.5 -8.5 -9.0 -6.0 -7.0 -5.5 -10.5 -10.5 -11.5 -10.0 -15.0 -16.0 -7.0\n",
            " -9.5 -9.5 -9.5 -9.5 -4.0 -3.5 -5.5 -5.0 -3.5 -4.0 -4.0 -7.5 -15.0 -9.0\n",
            " -8.5 -10.0 -10.0 -15.5 -10.5 -15.0 -14.0 -15.0 -16.5 -11.5 -13.0 -19.5\n",
            " -15.5 -12.5 -4.0 -4.0 -5.5 -5.0 -3.5 -3.0 -5.5 -5.5 -4.5 -10.5 -4.5 -6.0\n",
            " -8.0 -6.0 -10.5 -14.0 -15.5 -14.0 -12.0 -13.0 -10.5 -11.0 -12.5 -5.0 -3.5\n",
            " -5.0 -6.5 -4.5 -3.5 -4.0 -5.0 -6.5 -3.0 -3.0 -3.0 -10.5 -12.0 -10.0 -10.5\n",
            " -10.0 -17.0 -6.0 -4.5 -5.0 -4.5 -9.0 -15.0 -15.5 -12.5 -10.5 -14.5 -8.0\n",
            " -11.5 -5.0 -1.5 -15.5 -11.5 -10.0 -11.5 -3.0 -10.0 -7.5 -3.0 -10.5 -11.0\n",
            " -10.0 -11.0 -15.0 -12.5 -17.0 -13.0 -11.0 -12.0 -10.5 -6.0 -6.5 -5.5 -8.0\n",
            " -7.5 -12.5 -11.5 -10.5 -12.5 -15.0 -10.5 -11.5 -10.0 -11.0 -11.5 -12.0\n",
            " -10.0 -10.0 -15.0 -13.5 -3.5 -6.0 -6.5 -5.5 -15.0 -12.5 -13.0 -13.0 -9.0\n",
            " -5.5 -4.0 -12.0 -13.0 -10.0 -14.5 -9.5 -12.5 -13.0 -8.5 -10.0 -11.0 -11.0\n",
            " -13.0 -10.5 -9.5 -13.5 -11.5 -12.899999999999999 -10.9 -13.7 -11.3 -5.0\n",
            " -5.0 -5.9 -4.800000000000001 -9.4 -8.5 -11.600000000000001\n",
            " -11.600000000000001 -18.2 -18.1 -10.2 -13.399999999999999 -11.7 -15.0\n",
            " -10.2 -11.8 -8.2 -13.0 -12.399999999999999 -9.6 -11.7 -5.199999999999999\n",
            " -17.9 -9.5 -10.7 -4.1 -4.0 -7.0 -6.0 -14.5 -10.8 -14.600000000000001\n",
            " -11.5 -12.8 -4.5 -11.0 -5.699999999999999 -6.9 -10.399999999999999\n",
            " -10.899999999999999 -11.7 -13.0 -3.0999999999999996 -3.4000000000000004\n",
            " -4.199999999999999 -6.5 -10.5 -12.0 -14.2 -11.8 -13.0 -11.9\n",
            " -12.399999999999999 -10.1 -8.5 -8.8 -10.5 -17.5 -10.4 -15.399999999999999\n",
            " -14.600000000000001 -12.399999999999999 -7.5 -5.199999999999999\n",
            " -4.800000000000001 -13.2 -12.2 -9.8 -11.4 -11.2 -11.2 -9.8 -10.7 -12.7\n",
            " -9.1 -5.199999999999999 -7.4 -3.1999999999999993 -5.699999999999999 -12.5\n",
            " -10.2 -10.7 -10.5 -10.8 -12.7 -13.600000000000001 -10.9 -10.9 -7.6 -11.7\n",
            " -9.8 -10.9 -12.600000000000001 -9.4 -12.2 -13.3 -12.2 -10.600000000000001\n",
            " -7.4 -5.4 -5.199999999999999 -7.199999999999999 -6.9 -6.300000000000001\n",
            " -7.0 -5.0 -10.0 -11.2 -10.4 -11.0 -15.100000000000001 -9.399999999999999\n",
            " -20.8 -14.2 -9.2 -10.9 -15.2 -10.7 -12.0 -5.300000000000001 -6.9 -9.2\n",
            " -10.7 -14.8 -11.5 -12.399999999999999 -12.5 -14.100000000000001 -16.1\n",
            " -12.7 -11.8 -11.5 -13.5 -11.0 -11.2 -13.899999999999999 -10.4 -15.2 -17.7\n",
            " -19.7 -14.899999999999999 -17.8 -9.8 -13.3 -14.0 -11.3 -5.4 -9.5 -11.1\n",
            " -10.3 -13.0 -11.7 -12.399999999999999 -10.4 -6.6 -8.9 -12.899999999999999\n",
            " -12.399999999999999 -12.100000000000001 -13.8 -15.399999999999999 -13.3\n",
            " -12.0 -10.9 -12.2 -16.7 -10.2 -11.8 -10.4 -12.8 -10.8 -14.3 -16.4 -11.4\n",
            " -13.600000000000001 -6.6 -7.800000000000001 -9.8 -11.0\n",
            " -11.100000000000001 -10.600000000000001 -15.600000000000001\n",
            " -14.600000000000001 -14.0 -12.2 -12.0 -14.0 -12.399999999999999 -16.5\n",
            " -11.3 -14.2 -13.600000000000001 -10.7 -13.3 -10.5 -10.5\n",
            " -12.899999999999999 -11.0 -11.7 -12.2 -10.399999999999999 -11.0 -10.5\n",
            " -8.7 -9.9 -9.0 -13.3 -11.6 -20.6 -7.6 -14.600000000000001\n",
            " -15.399999999999999]\n",
            "[96.0 92.0 88.0 96.0 84.0 80.0 72.0 68.0 80.0 68.0 70.0 92.0 88.0 84.0\n",
            " 88.0 80.0 64.0 64.0 76.0 80.0 60.0 93.0 93.0 96.0 58.0 82.0 70.0 58.0\n",
            " 70.0 50.0 90.0 112.0 120.0 108.0 148.0 58.0 62.0 56.0 76.0 80.0 78.0 93.0\n",
            " 93.0 93.0 93.0 96.0 92.0 108.0 104.0 92.0 96.0 96.0 81.0 76.0 90.0 87.0\n",
            " 56.0 56.0 78.0 58.0 76.0 72.0 76.0 82.0 62.0 68.0 94.0 78.0 66.0 96.0\n",
            " 96.0 108.0 104.0 92.0 88.0 108.0 108.0 100.0 40.5 100.0 112.0 128.0 112.0\n",
            " 58.0 72.0 78.0 72.0 64.0 68.0 58.0 60.0 66.0 104.0 92.0 104.0 116.0 100.0\n",
            " 92.0 96.0 104.0 116.0 88.0 88.0 88.0 99.0 108.0 96.0 99.0 96.0 84.0 112.0\n",
            " 100.0 104.0 100.0 90.0 76.0 78.0 66.0 40.5 74.0 84.0 62.0 104.0 76.0 78.0\n",
            " 62.0 56.0 62.0 88.0 56.0 81.0 88.0 99.0 102.0 96.0 102.0 76.0 66.0 84.0\n",
            " 68.0 102.0 108.0 99.0 112.0 116.0 108.0 128.0 124.0 66.0 62.0 58.0 66.0\n",
            " 76.0 58.0 62.0 56.0 60.0 62.0 64.0 96.0 96.0 126.0 117.0 92.0 112.0 116.0\n",
            " 108.0 126.0 111.0 114.0 114.0 90.0 108.0 96.0 64.0 68.0 96.0 74.0 54.0\n",
            " 66.0 68.0 87.0 56.0 102.0 60.0 68.0 58.0 54.0 70.0 62.0 67.6 59.6 70.8\n",
            " 61.2 104.0 104.0 111.2 102.4 92.4 87.0 105.60000000000001\n",
            " 105.60000000000001 88.8 88.4 56.8 69.6 106.19999999999999 126.0\n",
            " 97.19999999999999 106.80000000000001 48.8 68.0 65.6 54.4 62.8 105.6 87.6\n",
            " 93.0 100.19999999999999 96.8 96.0 120.0 112.0 74.0 59.2 74.4 62.0 67.2\n",
            " 100.0 152.0 109.6 119.2 98.39999999999999 101.39999999999999\n",
            " 106.19999999999999 114.0 88.8 91.2 97.6 116.0 58.0 64.0 72.8 63.2 68.0\n",
            " 63.6 65.6 56.4 87.0 51.2 40.5 86.0 57.6 77.6 74.4 65.6 124.0 105.6 102.4\n",
            " 115.19999999999999 109.19999999999999 94.80000000000001 61.6\n",
            " 103.19999999999999 103.19999999999999 94.80000000000001\n",
            " 100.19999999999999 112.19999999999999 90.6 105.6 80.4 89.6 109.6 66.0\n",
            " 56.8 58.8 58.0 59.2 66.8 70.4 59.6 79.5 81.6 62.8 94.80000000000001 59.6\n",
            " 66.4 92.4 109.19999999999999 69.2 109.19999999999999 99.60000000000001\n",
            " 123.2 107.2 105.6 121.6 119.2 114.4 120.0 104.0 56.0 60.8 57.6 60.0 100.5\n",
            " 139.2 99.2 177.6 52.8 59.6 76.8 58.8 64.0 67.80000000000001 77.4 52.8\n",
            " 58.8 75.2 62.0 65.6 66.0 72.4 80.4 112.19999999999999 63.2 62.0 70.0 60.0\n",
            " 60.8 71.6 57.6 76.8 86.8 94.8 99.5 87.2 55.2 69.2 72.0 61.2 68.4 37.5\n",
            " 60.4 57.2 68.0 62.8 65.6 57.6 75.6 51.6 67.6 65.6 64.4 71.2 77.6 69.2\n",
            " 64.0 59.6 64.8 82.8 56.8 63.2 57.6 67.2 59.2 73.2 81.6 61.6\n",
            " 117.60000000000001 75.6 82.80000000000001 94.80000000000001 152.0\n",
            " 102.60000000000001 99.60000000000001 78.4 74.4 72.0 64.8 64.0 72.0 65.6\n",
            " 82.0 61.2 72.8 70.4 58.8 69.2 58.0 58.0 67.6 60.0 62.8 64.8\n",
            " 98.39999999999999 102.0 58.0 88.19999999999999 55.6 52.0 69.2 62.4 98.4\n",
            " 46.4 74.4 77.6]\n",
            "33484.69999999997\n",
            "217.62830698234094\n"
          ]
        }
      ],
      "source": [
        "\n",
        "# 1. addition and subtraction\n",
        "\n",
        "add = y1 + y2\n",
        "print(add)\n",
        "\n",
        "sub = y1 - y2\n",
        "print(sub)\n",
        "\n",
        "# 2. element-wise multiplication\n",
        "\n",
        "mult = y1 * y2\n",
        "print(mult)\n",
        "\n",
        "# 3. inner product\n",
        "inner_prod = np.inner(y1,y2)\n",
        "print(inner_prod)\n",
        "# 4. three norms\n",
        "\n",
        "\n",
        "\n",
        "# 5. compute the distance between these two vectors\n",
        "\n",
        "dist = np.linalg.norm(y1-y2, ord = 2)\n",
        "print(dist)\n"
      ]
    },
    {
      "cell_type": "markdown",
      "metadata": {
        "id": "GNlLEqSvweIk"
      },
      "source": [
        "### 2.3 Get the first three columns and the last three columns from X"
      ]
    },
    {
      "cell_type": "code",
      "execution_count": null,
      "metadata": {
        "colab": {
          "base_uri": "https://localhost:8080/"
        },
        "id": "54V8fx4HweIk",
        "outputId": "edf17710-ca9a-4880-a402-34d94f843651"
      },
      "outputs": [
        {
          "output_type": "stream",
          "name": "stdout",
          "text": [
            "[[18.0 8 307.0]\n",
            " [15.0 8 350.0]\n",
            " [18.0 8 318.0]\n",
            " ...\n",
            " [32.0 4 135.0]\n",
            " [28.0 4 120.0]\n",
            " [31.0 4 119.0]]\n",
            "[[3504 12.0 70]\n",
            " [3693 11.5 70]\n",
            " [3436 11.0 70]\n",
            " ...\n",
            " [2295 11.6 82]\n",
            " [2625 18.6 82]\n",
            " [2720 19.4 82]]\n"
          ]
        }
      ],
      "source": [
        "# this is your code to get two matrices: A, B\n",
        "\n",
        "A = X[:,0:3]\n",
        "B = X[:, -3:]\n",
        "\n",
        "print(A)\n",
        "print(B)"
      ]
    },
    {
      "cell_type": "markdown",
      "metadata": {
        "id": "WyJFUqeQweIk"
      },
      "source": [
        "### 2.4 Perform following operations on these two matrices and print the result"
      ]
    },
    {
      "cell_type": "code",
      "execution_count": null,
      "metadata": {
        "colab": {
          "base_uri": "https://localhost:8080/"
        },
        "id": "BRVT6T2UweIk",
        "outputId": "d572971d-ac91-458a-b728-64994b0dc24e"
      },
      "outputs": [
        {
          "output_type": "stream",
          "name": "stdout",
          "text": [
            "[[3522.0 20.0 377.0]\n",
            " [3708.0 19.5 420.0]\n",
            " [3454.0 19.0 388.0]\n",
            " ...\n",
            " [2327.0 15.6 217.0]\n",
            " [2653.0 22.6 202.0]\n",
            " [2751.0 23.4 201.0]]\n",
            "(3, 406)\n",
            "(406, 406)\n",
            "[[25614040.900000002 149295.04000000004 718009.0999999995]\n",
            " [7149030 33484.69999999997 167835]\n",
            " [269175402.0 1160836.2999999998 5943079.0]]\n"
          ]
        }
      ],
      "source": [
        "\n",
        "A = X[:,0:3]\n",
        "B = X[:, -3:]\n",
        "\n",
        "# 1. addition and subtraction\n",
        "add = A + B\n",
        "print(add)\n",
        "\n",
        "\n",
        "# 2. compute the transpose of the second matrix: C = B^T, and print the shape of C\n",
        "C = np.transpose(B)\n",
        "print(C.shape)\n",
        "\n",
        "# 3. compute the product between A and C, and print the result and its shape\n",
        "prod = np.dot(A, C)\n",
        "print(prod.shape)\n",
        "\n",
        "\n",
        "# 4. compute the transpose of the first matrix: D = A^T, and print the shape of D\n",
        "D = np.transpose(A)\n",
        "D.shape\n",
        "# 5. compute the product between D and B, and print the result and its shape\n",
        "prod = np.dot(D, B)\n",
        "print(prod)"
      ]
    }
  ],
  "metadata": {
    "kernelspec": {
      "display_name": "Python 3",
      "language": "python",
      "name": "python3"
    },
    "language_info": {
      "codemirror_mode": {
        "name": "ipython",
        "version": 3
      },
      "file_extension": ".py",
      "mimetype": "text/x-python",
      "name": "python",
      "nbconvert_exporter": "python",
      "pygments_lexer": "ipython3",
      "version": "3.7.1"
    },
    "colab": {
      "provenance": []
    }
  },
  "nbformat": 4,
  "nbformat_minor": 0
}